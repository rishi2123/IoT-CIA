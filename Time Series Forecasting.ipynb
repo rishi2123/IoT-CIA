{
 "cells": [
  {
   "cell_type": "markdown",
   "id": "01a88f2f",
   "metadata": {},
   "source": [
    "# Time Series forecasting "
   ]
  },
  {
   "cell_type": "code",
   "execution_count": 1,
   "id": "21810b0c",
   "metadata": {},
   "outputs": [],
   "source": [
    "import pandas as pd\n",
    "import numpy as np\n",
    "import matplotlib.pyplot as plt\n",
    "import seaborn as sns"
   ]
  },
  {
   "cell_type": "code",
   "execution_count": 2,
   "id": "26a04bac",
   "metadata": {},
   "outputs": [],
   "source": [
    "df = pd.read_csv(r\"C:\\Users\\ASUS\\Downloads\\Compressed\\IOT-temp.csv\\IOT-temp.csv\")"
   ]
  },
  {
   "cell_type": "code",
   "execution_count": 3,
   "id": "cf067b1e",
   "metadata": {},
   "outputs": [
    {
     "data": {
      "text/html": [
       "<div>\n",
       "<style scoped>\n",
       "    .dataframe tbody tr th:only-of-type {\n",
       "        vertical-align: middle;\n",
       "    }\n",
       "\n",
       "    .dataframe tbody tr th {\n",
       "        vertical-align: top;\n",
       "    }\n",
       "\n",
       "    .dataframe thead th {\n",
       "        text-align: right;\n",
       "    }\n",
       "</style>\n",
       "<table border=\"1\" class=\"dataframe\">\n",
       "  <thead>\n",
       "    <tr style=\"text-align: right;\">\n",
       "      <th></th>\n",
       "      <th>id</th>\n",
       "      <th>room_id/id</th>\n",
       "      <th>noted_date</th>\n",
       "      <th>temp</th>\n",
       "      <th>out/in</th>\n",
       "    </tr>\n",
       "  </thead>\n",
       "  <tbody>\n",
       "    <tr>\n",
       "      <th>0</th>\n",
       "      <td>__export__.temp_log_196134_bd201015</td>\n",
       "      <td>Room Admin</td>\n",
       "      <td>08-12-2018 09:30</td>\n",
       "      <td>29</td>\n",
       "      <td>In</td>\n",
       "    </tr>\n",
       "    <tr>\n",
       "      <th>1</th>\n",
       "      <td>__export__.temp_log_196131_7bca51bc</td>\n",
       "      <td>Room Admin</td>\n",
       "      <td>08-12-2018 09:30</td>\n",
       "      <td>29</td>\n",
       "      <td>In</td>\n",
       "    </tr>\n",
       "    <tr>\n",
       "      <th>2</th>\n",
       "      <td>__export__.temp_log_196127_522915e3</td>\n",
       "      <td>Room Admin</td>\n",
       "      <td>08-12-2018 09:29</td>\n",
       "      <td>41</td>\n",
       "      <td>Out</td>\n",
       "    </tr>\n",
       "    <tr>\n",
       "      <th>3</th>\n",
       "      <td>__export__.temp_log_196128_be0919cf</td>\n",
       "      <td>Room Admin</td>\n",
       "      <td>08-12-2018 09:29</td>\n",
       "      <td>41</td>\n",
       "      <td>Out</td>\n",
       "    </tr>\n",
       "    <tr>\n",
       "      <th>4</th>\n",
       "      <td>__export__.temp_log_196126_d30b72fb</td>\n",
       "      <td>Room Admin</td>\n",
       "      <td>08-12-2018 09:29</td>\n",
       "      <td>31</td>\n",
       "      <td>In</td>\n",
       "    </tr>\n",
       "  </tbody>\n",
       "</table>\n",
       "</div>"
      ],
      "text/plain": [
       "                                    id  room_id/id        noted_date  temp  \\\n",
       "0  __export__.temp_log_196134_bd201015  Room Admin  08-12-2018 09:30    29   \n",
       "1  __export__.temp_log_196131_7bca51bc  Room Admin  08-12-2018 09:30    29   \n",
       "2  __export__.temp_log_196127_522915e3  Room Admin  08-12-2018 09:29    41   \n",
       "3  __export__.temp_log_196128_be0919cf  Room Admin  08-12-2018 09:29    41   \n",
       "4  __export__.temp_log_196126_d30b72fb  Room Admin  08-12-2018 09:29    31   \n",
       "\n",
       "  out/in  \n",
       "0     In  \n",
       "1     In  \n",
       "2    Out  \n",
       "3    Out  \n",
       "4     In  "
      ]
     },
     "execution_count": 3,
     "metadata": {},
     "output_type": "execute_result"
    }
   ],
   "source": [
    "df.head()"
   ]
  },
  {
   "cell_type": "markdown",
   "id": "a3871735",
   "metadata": {},
   "source": [
    "### Pre Processing"
   ]
  },
  {
   "cell_type": "code",
   "execution_count": 4,
   "id": "60c526ad",
   "metadata": {},
   "outputs": [
    {
     "data": {
      "text/plain": [
       "id            0\n",
       "room_id/id    0\n",
       "noted_date    0\n",
       "temp          0\n",
       "out/in        0\n",
       "dtype: int64"
      ]
     },
     "execution_count": 4,
     "metadata": {},
     "output_type": "execute_result"
    }
   ],
   "source": [
    "df.isna().sum()"
   ]
  },
  {
   "cell_type": "code",
   "execution_count": 5,
   "id": "17fb0d22",
   "metadata": {},
   "outputs": [
    {
     "data": {
      "text/plain": [
       "array([[29],\n",
       "       [29],\n",
       "       [31],\n",
       "       ...,\n",
       "       [31],\n",
       "       [31],\n",
       "       [31]], dtype=int64)"
      ]
     },
     "execution_count": 5,
     "metadata": {},
     "output_type": "execute_result"
    }
   ],
   "source": [
    "in_series = df[df['out/in'] == 'In'][['temp']].values\n",
    "in_series"
   ]
  },
  {
   "cell_type": "code",
   "execution_count": 6,
   "id": "9fce3057",
   "metadata": {},
   "outputs": [
    {
     "data": {
      "text/plain": [
       "(20345, 1)"
      ]
     },
     "execution_count": 6,
     "metadata": {},
     "output_type": "execute_result"
    }
   ],
   "source": [
    "in_series.shape"
   ]
  },
  {
   "cell_type": "code",
   "execution_count": 7,
   "id": "3966f6aa",
   "metadata": {},
   "outputs": [],
   "source": [
    "in_series = np.array(in_series , 'float')"
   ]
  },
  {
   "cell_type": "code",
   "execution_count": 8,
   "id": "402d2201",
   "metadata": {},
   "outputs": [
    {
     "data": {
      "text/plain": [
       "array([[29.],\n",
       "       [29.],\n",
       "       [31.],\n",
       "       ...,\n",
       "       [31.],\n",
       "       [31.],\n",
       "       [31.]])"
      ]
     },
     "execution_count": 8,
     "metadata": {},
     "output_type": "execute_result"
    }
   ],
   "source": [
    "in_series"
   ]
  },
  {
   "cell_type": "code",
   "execution_count": 9,
   "id": "1e0fe92b",
   "metadata": {},
   "outputs": [],
   "source": [
    "out_series = df[df['out/in'] == 'Out'][['temp']]"
   ]
  },
  {
   "cell_type": "code",
   "execution_count": 10,
   "id": "2f11f412",
   "metadata": {},
   "outputs": [],
   "source": [
    "out_series = np.array(out_series , 'float')"
   ]
  },
  {
   "cell_type": "code",
   "execution_count": 11,
   "id": "67492358",
   "metadata": {},
   "outputs": [
    {
     "data": {
      "text/plain": [
       "array([[41.],\n",
       "       [41.],\n",
       "       [42.],\n",
       "       ...,\n",
       "       [32.],\n",
       "       [32.],\n",
       "       [32.]])"
      ]
     },
     "execution_count": 11,
     "metadata": {},
     "output_type": "execute_result"
    }
   ],
   "source": [
    "out_series"
   ]
  },
  {
   "cell_type": "code",
   "execution_count": 12,
   "id": "5ede87de",
   "metadata": {},
   "outputs": [
    {
     "data": {
      "text/plain": [
       "20345"
      ]
     },
     "execution_count": 12,
     "metadata": {},
     "output_type": "execute_result"
    }
   ],
   "source": [
    "len(in_series)"
   ]
  },
  {
   "cell_type": "code",
   "execution_count": 13,
   "id": "f9d6edde",
   "metadata": {},
   "outputs": [
    {
     "data": {
      "text/plain": [
       "77261"
      ]
     },
     "execution_count": 13,
     "metadata": {},
     "output_type": "execute_result"
    }
   ],
   "source": [
    "len(out_series)"
   ]
  },
  {
   "cell_type": "code",
   "execution_count": 14,
   "id": "b4a687a2",
   "metadata": {},
   "outputs": [],
   "source": [
    "def plot_series(series):\n",
    "    plt.figure(figsize= (12 , 6))\n",
    "    plt.plot(series)\n",
    "    plt.show()"
   ]
  },
  {
   "cell_type": "code",
   "execution_count": 15,
   "id": "45318a9c",
   "metadata": {},
   "outputs": [
    {
     "data": {
      "image/png": "[encoded data removed]",
      "text/plain": [
       "<Figure size 864x432 with 1 Axes>"
      ]
     },
     "metadata": {
      "needs_background": "light"
     },
     "output_type": "display_data"
    }
   ],
   "source": [
    "plot_series(in_series)"
   ]
  },
  {
   "cell_type": "code",
   "execution_count": 16,
   "id": "91d827b7",
   "metadata": {},
   "outputs": [
    {
     "data": {
      "image/png": "[encoded data removed]",
      "text/plain": [
       "<Figure size 864x432 with 1 Axes>"
      ]
     },
     "metadata": {
      "needs_background": "light"
     },
     "output_type": "display_data"
    }
   ],
   "source": [
    "plot_series(out_series)"
   ]
  },
  {
   "cell_type": "code",
   "execution_count": 17,
   "id": "c1ec2fbe",
   "metadata": {},
   "outputs": [],
   "source": [
    "def normalize_series(series):\n",
    "    original_min = min(series)\n",
    "    original_max = max(series)\n",
    "    print(original_max)\n",
    "    series = (series - min(series)) / (max(series) - min(series))\n",
    "    return series , original_max , original_min"
   ]
  },
  {
   "cell_type": "code",
   "execution_count": 18,
   "id": "f030f9c1",
   "metadata": {},
   "outputs": [
    {
     "name": "stdout",
     "output_type": "stream",
     "text": [
      "[41.]\n"
     ]
    },
    {
     "data": {
      "text/plain": [
       "array([41.])"
      ]
     },
     "execution_count": 18,
     "metadata": {},
     "output_type": "execute_result"
    }
   ],
   "source": [
    "series , original_max , original_min = normalize_series(in_series)\n",
    "original_max"
   ]
  },
  {
   "cell_type": "code",
   "execution_count": 19,
   "id": "c9075306",
   "metadata": {},
   "outputs": [],
   "source": [
    "def de_normalize_series(normalized_series):\n",
    "    series = (normalized_series * (original_max - original_min)) + original_min\n",
    "    return series"
   ]
  },
  {
   "cell_type": "code",
   "execution_count": 20,
   "id": "14f3c539",
   "metadata": {},
   "outputs": [
    {
     "data": {
      "text/plain": [
       "array([[29.],\n",
       "       [29.],\n",
       "       [31.],\n",
       "       ...,\n",
       "       [31.],\n",
       "       [31.],\n",
       "       [31.]])"
      ]
     },
     "execution_count": 20,
     "metadata": {},
     "output_type": "execute_result"
    }
   ],
   "source": [
    "original = de_normalize_series(series)\n",
    "original"
   ]
  },
  {
   "cell_type": "code",
   "execution_count": 21,
   "id": "95819ef4",
   "metadata": {},
   "outputs": [],
   "source": [
    "split_size = .8\n",
    "window_size = 30\n",
    "batch_size = 32\n",
    "buffer_size = 1000"
   ]
  },
  {
   "cell_type": "code",
   "execution_count": 22,
   "id": "83fb0747",
   "metadata": {},
   "outputs": [],
   "source": [
    "import tensorflow as tf\n",
    "def windowed_series(series , window_size ,batch_size, buffer_size):\n",
    "    series = tf.data.Dataset.from_tensor_slices(series)\n",
    "    series = series.window( window_size +1 , shift = 1 , drop_remainder = True)\n",
    "    series = series.flat_map(lambda x: x.batch(window_size + 1))\n",
    "    series = series.map(lambda window: (window[:window_size] , window[window_size:]))\n",
    "    series = series.shuffle(buffer_size)\n",
    "    series = series.batch(batch_size).prefetch(1)\n",
    "    return series"
   ]
  },
  {
   "cell_type": "code",
   "execution_count": 23,
   "id": "55d06c48",
   "metadata": {},
   "outputs": [],
   "source": [
    "train_in_set_size = int(split_size * len(series))\n",
    "train_in_set = series[train_in_set_size :]\n",
    "validation_in_set = series[: train_in_set_size]"
   ]
  },
  {
   "cell_type": "code",
   "execution_count": 24,
   "id": "0cc10317",
   "metadata": {},
   "outputs": [
    {
     "data": {
      "text/plain": [
       "array([[0.45],\n",
       "       [0.45],\n",
       "       [0.5 ],\n",
       "       ...,\n",
       "       [0.5 ],\n",
       "       [0.5 ],\n",
       "       [0.5 ]])"
      ]
     },
     "execution_count": 24,
     "metadata": {},
     "output_type": "execute_result"
    }
   ],
   "source": [
    "windowed_train_inset = windowed_series(train_in_set , window_size , batch_size , buffer_size)\n",
    "train_in_set"
   ]
  },
  {
   "cell_type": "code",
   "execution_count": 25,
   "id": "d45c4c9a",
   "metadata": {},
   "outputs": [
    {
     "name": "stdout",
     "output_type": "stream",
     "text": [
      "4069\n"
     ]
    },
    {
     "data": {
      "text/plain": [
       "127"
      ]
     },
     "execution_count": 25,
     "metadata": {},
     "output_type": "execute_result"
    }
   ],
   "source": [
    "print(len(train_in_set))\n",
    "len(list(windowed_train_inset))"
   ]
  },
  {
   "cell_type": "code",
   "execution_count": 26,
   "id": "543bf24c",
   "metadata": {},
   "outputs": [
    {
     "name": "stdout",
     "output_type": "stream",
     "text": [
      "(32, 30, 1)\n",
      "(32, 1, 1)\n"
     ]
    }
   ],
   "source": [
    "for x , y in windowed_train_inset.take(1):\n",
    "    print(x.numpy().shape)\n",
    "    print(y.numpy().shape)"
   ]
  },
  {
   "cell_type": "code",
   "execution_count": 27,
   "id": "6f855adf",
   "metadata": {},
   "outputs": [
    {
     "name": "stdout",
     "output_type": "stream",
     "text": [
      "Model: \"sequential\"\n",
      "_________________________________________________________________\n",
      " Layer (type)                Output Shape              Param #   \n",
      "=================================================================\n",
      " conv1d (Conv1D)             (None, 30, 32)            128       \n",
      "                                                                 \n",
      " lstm (LSTM)                 (None, 30, 64)            24832     \n",
      "                                                                 \n",
      " lstm_1 (LSTM)               (None, 64)                33024     \n",
      "                                                                 \n",
      " dense (Dense)               (None, 10)                650       \n",
      "                                                                 \n",
      " dense_1 (Dense)             (None, 1)                 11        \n",
      "                                                                 \n",
      "=================================================================\n",
      "Total params: 58,645\n",
      "Trainable params: 58,645\n",
      "Non-trainable params: 0\n",
      "_________________________________________________________________\n"
     ]
    }
   ],
   "source": [
    "tf.keras.backend.clear_session()\n",
    "\n",
    "model = tf.keras.models.Sequential([\n",
    "    tf.keras.layers.Conv1D(filters = 32 , kernel_size = 3 , padding = 'causal' , activation = 'relu' , input_shape = [window_size , 1]),\n",
    "    tf.keras.layers.LSTM(64 , return_sequences = True ),\n",
    "    tf.keras.layers.LSTM(64),\n",
    "    tf.keras.layers.Dense(10 , activation = 'relu'),\n",
    "    tf.keras.layers.Dense(1)\n",
    "])\n",
    "\n",
    "model_init_weights = model.get_weights()\n",
    "model.summary()"
   ]
  },
  {
   "cell_type": "code",
   "execution_count": 28,
   "id": "0ce88323",
   "metadata": {},
   "outputs": [
    {
     "data": {
      "text/plain": [
       "TensorShape([None, 30, 1])"
      ]
     },
     "execution_count": 28,
     "metadata": {},
     "output_type": "execute_result"
    }
   ],
   "source": [
    "model.input.shape"
   ]
  },
  {
   "cell_type": "code",
   "execution_count": 29,
   "id": "2abcf6ed",
   "metadata": {},
   "outputs": [],
   "source": [
    "lr_scheduler = tf.keras.callbacks.LearningRateScheduler(lambda epoch: 1e-8 * 10**(epoch / 20))\n",
    "\n",
    "model.compile(loss = tf.keras.losses.Huber() , optimizer = tf.keras.optimizers.SGD(momentum = .9) , metrics = ['mae'])"
   ]
  },
  {
   "cell_type": "code",
   "execution_count": 30,
   "id": "ae3407fc",
   "metadata": {},
   "outputs": [
    {
     "name": "stdout",
     "output_type": "stream",
     "text": [
      "Epoch 1/10\n",
      "127/127 [==============================] - 6s 24ms/step - loss: 0.1091 - mae: 0.4560 - lr: 1.0000e-08\n",
      "Epoch 2/10\n",
      "127/127 [==============================] - 2s 17ms/step - loss: 0.1090 - mae: 0.4560 - lr: 1.1220e-08\n",
      "Epoch 3/10\n",
      "127/127 [==============================] - 2s 17ms/step - loss: 0.1090 - mae: 0.4560 - lr: 1.2589e-08\n",
      "Epoch 4/10\n",
      "127/127 [==============================] - 2s 17ms/step - loss: 0.1090 - mae: 0.4559 - lr: 1.4125e-08\n",
      "Epoch 5/10\n",
      "127/127 [==============================] - 2s 18ms/step - loss: 0.1090 - mae: 0.4559 - lr: 1.5849e-08\n",
      "Epoch 6/10\n",
      "127/127 [==============================] - 2s 18ms/step - loss: 0.1090 - mae: 0.4559 - lr: 1.7783e-08\n",
      "Epoch 7/10\n",
      "127/127 [==============================] - 2s 18ms/step - loss: 0.1090 - mae: 0.4558 - lr: 1.9953e-08\n",
      "Epoch 8/10\n",
      "127/127 [==============================] - 2s 18ms/step - loss: 0.1089 - mae: 0.4558 - lr: 2.2387e-08\n",
      "Epoch 9/10\n",
      "127/127 [==============================] - 2s 18ms/step - loss: 0.1089 - mae: 0.4557 - lr: 2.5119e-08\n",
      "Epoch 10/10\n",
      "127/127 [==============================] - 2s 19ms/step - loss: 0.1089 - mae: 0.4556 - lr: 2.8184e-08\n"
     ]
    }
   ],
   "source": [
    "history = model.fit(windowed_train_inset , epochs = 10 , callbacks = [lr_scheduler])"
   ]
  },
  {
   "cell_type": "code",
   "execution_count": 31,
   "id": "c9b1c6e8",
   "metadata": {},
   "outputs": [
    {
     "data": {
      "text/plain": [
       "[<matplotlib.lines.Line2D at 0x20f8715b3a0>]"
      ]
     },
     "execution_count": 31,
     "metadata": {},
     "output_type": "execute_result"
    },
    {
     "data": {
      "image/png": "[encoded data removed]",
      "text/plain": [
       "<Figure size 720x432 with 1 Axes>"
      ]
     },
     "metadata": {
      "needs_background": "light"
     },
     "output_type": "display_data"
    }
   ],
   "source": [
    "lr_list = 1e-8 * 10**(np.arange(10)/20)\n",
    "\n",
    "loss = history.history['loss']\n",
    "plt.figure(figsize = (10 , 6))\n",
    "plt.semilogx(lr_list , loss)"
   ]
  },
  {
   "cell_type": "code",
   "execution_count": 32,
   "id": "3ccff1d1",
   "metadata": {},
   "outputs": [
    {
     "name": "stderr",
     "output_type": "stream",
     "text": [
      "WARNING:absl:`lr` is deprecated in Keras optimizer, please use `learning_rate` or use the legacy optimizer, e.g.,tf.keras.optimizers.legacy.SGD.\n"
     ]
    },
    {
     "name": "stdout",
     "output_type": "stream",
     "text": [
      "Epoch 1/20\n",
      "127/127 [==============================] - 4s 17ms/step - loss: 0.0064 - mae: 0.0880\n",
      "Epoch 2/20\n",
      "127/127 [==============================] - 2s 18ms/step - loss: 0.0030 - mae: 0.0656\n",
      "Epoch 3/20\n",
      "127/127 [==============================] - 2s 18ms/step - loss: 0.0024 - mae: 0.0577\n",
      "Epoch 4/20\n",
      "127/127 [==============================] - 2s 18ms/step - loss: 0.0015 - mae: 0.0454\n",
      "Epoch 5/20\n",
      "127/127 [==============================] - 2s 18ms/step - loss: 8.4755e-04 - mae: 0.0327\n",
      "Epoch 6/20\n",
      "127/127 [==============================] - 2s 18ms/step - loss: 4.3832e-04 - mae: 0.0225\n",
      "Epoch 7/20\n",
      "127/127 [==============================] - 2s 17ms/step - loss: 3.2171e-04 - mae: 0.0169\n",
      "Epoch 8/20\n",
      "127/127 [==============================] - 2s 17ms/step - loss: 3.0491e-04 - mae: 0.0157\n",
      "Epoch 9/20\n",
      "127/127 [==============================] - 2s 18ms/step - loss: 3.0632e-04 - mae: 0.0156\n",
      "Epoch 10/20\n",
      "127/127 [==============================] - 2s 18ms/step - loss: 3.1067e-04 - mae: 0.0158\n",
      "Epoch 11/20\n",
      "127/127 [==============================] - 2s 18ms/step - loss: 3.0168e-04 - mae: 0.0153\n",
      "Epoch 12/20\n",
      "127/127 [==============================] - 2s 18ms/step - loss: 3.0086e-04 - mae: 0.0155\n",
      "Epoch 13/20\n",
      "127/127 [==============================] - 2s 18ms/step - loss: 3.0102e-04 - mae: 0.0153\n",
      "Epoch 14/20\n",
      "127/127 [==============================] - 2s 18ms/step - loss: 3.0124e-04 - mae: 0.0151\n",
      "Epoch 15/20\n",
      "127/127 [==============================] - 2s 18ms/step - loss: 2.9887e-04 - mae: 0.0152\n",
      "Epoch 16/20\n",
      "127/127 [==============================] - 2s 18ms/step - loss: 3.0018e-04 - mae: 0.0154\n",
      "Epoch 17/20\n",
      "127/127 [==============================] - 2s 18ms/step - loss: 2.9830e-04 - mae: 0.0153\n",
      "Epoch 18/20\n",
      "127/127 [==============================] - 2s 18ms/step - loss: 2.9762e-04 - mae: 0.0151\n",
      "Epoch 19/20\n",
      "127/127 [==============================] - 2s 18ms/step - loss: 2.9849e-04 - mae: 0.0152\n",
      "Epoch 20/20\n",
      "127/127 [==============================] - 2s 18ms/step - loss: 2.9855e-04 - mae: 0.0153\n"
     ]
    }
   ],
   "source": [
    "lr_ = 1e-2\n",
    "\n",
    "model_2 = model\n",
    "model_2.set_weights(model_init_weights)\n",
    "\n",
    "model_2.compile(loss = tf.keras.losses.Huber() , optimizer = tf.keras.optimizers.SGD(lr = lr_ , momentum = 0.9 ) ,metrics = ['mae'])\n",
    "\n",
    "history_2 = model_2.fit(windowed_train_inset , epochs = 20)"
   ]
  },
  {
   "cell_type": "code",
   "execution_count": 33,
   "id": "1c54ac82",
   "metadata": {},
   "outputs": [],
   "source": [
    "def model_forecast(model , series , window_size , batch_size):\n",
    "    series = tf.data.Dataset.from_tensor_slices(series)\n",
    "    series = series.window(window_size , shift = 1 , drop_remainder = True)\n",
    "    series = series.flat_map(lambda win: win.batch(window_size))\n",
    "    series = series.batch(batch_size)\n",
    "    predictions = model.predict(series)\n",
    "    return predictions"
   ]
  },
  {
   "cell_type": "code",
   "execution_count": 34,
   "id": "db763b44",
   "metadata": {},
   "outputs": [
    {
     "name": "stdout",
     "output_type": "stream",
     "text": [
      "508/508 [==============================] - 4s 7ms/step\n"
     ]
    }
   ],
   "source": [
    "predictions = model_forecast(model , validation_in_set , window_size , batch_size)"
   ]
  },
  {
   "cell_type": "code",
   "execution_count": 35,
   "id": "04adea47",
   "metadata": {},
   "outputs": [],
   "source": [
    "results = np.array(predictions).squeeze()"
   ]
  },
  {
   "cell_type": "code",
   "execution_count": 36,
   "id": "6ca8b546",
   "metadata": {},
   "outputs": [
    {
     "data": {
      "image/png": "[encoded data removed]",
      "text/plain": [
       "<Figure size 432x288 with 1 Axes>"
      ]
     },
     "metadata": {
      "needs_background": "light"
     },
     "output_type": "display_data"
    },
    {
     "data": {
      "text/plain": [
       "<Figure size 720x432 with 0 Axes>"
      ]
     },
     "metadata": {},
     "output_type": "display_data"
    }
   ],
   "source": [
    "plt.plot(results, 'r' , label='predictions')\n",
    "plt.plot(validation_in_set , 'b' , label = 'actual')\n",
    "plt.figure(figsize = (10 , 6))\n",
    "plt.show()"
   ]
  },
  {
   "cell_type": "markdown",
   "id": "14cf8374",
   "metadata": {},
   "source": [
    "# MSE"
   ]
  },
  {
   "cell_type": "code",
   "execution_count": 37,
   "id": "a9cc330a",
   "metadata": {},
   "outputs": [
    {
     "data": {
      "text/plain": [
       "0.024277749"
      ]
     },
     "execution_count": 37,
     "metadata": {},
     "output_type": "execute_result"
    }
   ],
   "source": [
    "np.mean(tf.keras.metrics.mean_squared_error(validation_in_set, results))"
   ]
  },
  {
   "cell_type": "markdown",
   "id": "93a5fe5e",
   "metadata": {},
   "source": [
    "# MAE"
   ]
  },
  {
   "cell_type": "code",
   "execution_count": 38,
   "id": "1a841792",
   "metadata": {},
   "outputs": [
    {
     "data": {
      "text/plain": [
       "0.12529953"
      ]
     },
     "execution_count": 38,
     "metadata": {},
     "output_type": "execute_result"
    }
   ],
   "source": [
    "np.mean(tf.keras.metrics.mean_absolute_error(validation_in_set, results))"
   ]
  },
  {
   "cell_type": "markdown",
   "id": "345b6af1",
   "metadata": {},
   "source": [
    "##### the second series coming form out sensor"
   ]
  },
  {
   "cell_type": "code",
   "execution_count": 39,
   "id": "c6d0244b",
   "metadata": {},
   "outputs": [
    {
     "name": "stdout",
     "output_type": "stream",
     "text": [
      "[51.]\n"
     ]
    }
   ],
   "source": [
    "out_series , original_max_outseries , original_min_outseries= normalize_series(out_series)\n",
    "\n",
    "\n",
    "train_out_set_size = int(split_size * len(out_series))\n",
    "train_out_series = out_series[:train_out_set_size]\n",
    "validate_out_series = out_series[train_out_set_size:]"
   ]
  },
  {
   "cell_type": "code",
   "execution_count": 40,
   "id": "72bbe56e",
   "metadata": {},
   "outputs": [
    {
     "data": {
      "text/plain": [
       "array([[0.14814815],\n",
       "       [0.14814815],\n",
       "       [0.14814815],\n",
       "       ...,\n",
       "       [0.2962963 ],\n",
       "       [0.2962963 ],\n",
       "       [0.2962963 ]])"
      ]
     },
     "execution_count": 40,
     "metadata": {},
     "output_type": "execute_result"
    }
   ],
   "source": [
    "validate_out_series"
   ]
  },
  {
   "cell_type": "code",
   "execution_count": 41,
   "id": "d0db6b97",
   "metadata": {},
   "outputs": [],
   "source": [
    "windowed_train_out_ser = windowed_series(train_out_series , window_size , batch_size , buffer_size)"
   ]
  },
  {
   "cell_type": "code",
   "execution_count": 42,
   "id": "77acaf83",
   "metadata": {},
   "outputs": [
    {
     "name": "stdout",
     "output_type": "stream",
     "text": [
      "Epoch 1/5\n",
      "1931/1931 [==============================] - 36s 18ms/step - loss: 0.1565 - mae: 0.5264 - lr: 1.0000e-08\n",
      "Epoch 2/5\n",
      "1931/1931 [==============================] - 34s 18ms/step - loss: 0.1562 - mae: 0.5259 - lr: 1.1220e-08\n",
      "Epoch 3/5\n",
      "1931/1931 [==============================] - 34s 18ms/step - loss: 0.1559 - mae: 0.5254 - lr: 1.2589e-08\n",
      "Epoch 4/5\n",
      "1931/1931 [==============================] - 34s 18ms/step - loss: 0.1556 - mae: 0.5248 - lr: 1.4125e-08\n",
      "Epoch 5/5\n",
      "1931/1931 [==============================] - 34s 18ms/step - loss: 0.1552 - mae: 0.5241 - lr: 1.5849e-08\n"
     ]
    }
   ],
   "source": [
    "model_3 = model\n",
    "\n",
    "model_3.set_weights(model_init_weights)\n",
    "\n",
    "\n",
    "lr_scheduler_outseries = tf.keras.callbacks.LearningRateScheduler(lambda epoch: (1e-8 *10 **(epoch / 20)))\n",
    "\n",
    "model_3.compile(loss = tf.keras.losses.Huber() , optimizer = tf.keras.optimizers.SGD( momentum = 0.9 ) ,metrics = ['mae'])\n",
    "\n",
    "history_3 = model_3.fit(windowed_train_out_ser , epochs = 5 , callbacks = [lr_scheduler_outseries])"
   ]
  },
  {
   "cell_type": "code",
   "execution_count": 43,
   "id": "b614cf67",
   "metadata": {},
   "outputs": [
    {
     "name": "stderr",
     "output_type": "stream",
     "text": [
      "WARNING:absl:`lr` is deprecated in Keras optimizer, please use `learning_rate` or use the legacy optimizer, e.g.,tf.keras.optimizers.legacy.SGD.\n"
     ]
    },
    {
     "name": "stdout",
     "output_type": "stream",
     "text": [
      "Epoch 1/5\n",
      "1931/1931 [==============================] - 36s 17ms/step - loss: 0.0014 - mae: 0.0303\n",
      "Epoch 2/5\n",
      "1931/1931 [==============================] - 34s 18ms/step - loss: 4.1641e-04 - mae: 0.0183\n",
      "Epoch 3/5\n",
      "1931/1931 [==============================] - 34s 18ms/step - loss: 4.0057e-04 - mae: 0.0180\n",
      "Epoch 4/5\n",
      "1931/1931 [==============================] - 34s 18ms/step - loss: 3.8694e-04 - mae: 0.0177\n",
      "Epoch 5/5\n",
      "1931/1931 [==============================] - 34s 18ms/step - loss: 3.7769e-04 - mae: 0.0176\n"
     ]
    }
   ],
   "source": [
    "lr_model_3 = 1e-2\n",
    "model_3 = model\n",
    "\n",
    "model_3.set_weights(model_init_weights)\n",
    "\n",
    "\n",
    "\n",
    "model_3.compile(loss = tf.keras.losses.Huber() , optimizer = tf.keras.optimizers.SGD( momentum = 0.9 , lr = lr_model_3 ) , metrics = ['mae'])\n",
    "\n",
    "history_3 = model_3.fit(windowed_train_out_ser , epochs = 5)"
   ]
  },
  {
   "cell_type": "code",
   "execution_count": 44,
   "id": "5546ab52",
   "metadata": {},
   "outputs": [
    {
     "name": "stdout",
     "output_type": "stream",
     "text": [
      "482/482 [==============================] - 4s 7ms/step\n"
     ]
    },
    {
     "data": {
      "image/png": "[encoded data removed]",
      "text/plain": [
       "<Figure size 720x432 with 1 Axes>"
      ]
     },
     "metadata": {
      "needs_background": "light"
     },
     "output_type": "display_data"
    }
   ],
   "source": [
    "predictions_out_series = model_forecast(model_3 , validate_out_series, window_size , batch_size)\n",
    "results_out_series = np.array(predictions).squeeze()\n",
    "\n",
    "plt.figure(figsize = (10 , 6))\n",
    "plt.plot(results_out_series , 'r' , label = 'Predictions')\n",
    "plt.plot(validate_out_series ,'b' , label = 'Actual')\n",
    "plt.legend()\n",
    "plt.show()"
   ]
  },
  {
   "cell_type": "markdown",
   "id": "d9762b92",
   "metadata": {},
   "source": [
    "# MSE"
   ]
  },
  {
   "cell_type": "code",
   "execution_count": 46,
   "id": "2740df02",
   "metadata": {},
   "outputs": [
    {
     "name": "stdout",
     "output_type": "stream",
     "text": [
      "0.08990409\n"
     ]
    }
   ],
   "source": [
    "print(np.mean(tf.keras.metrics.mean_squared_error(validate_out_series , results_out_series)))"
   ]
  },
  {
   "cell_type": "markdown",
   "id": "bc0bb9b7",
   "metadata": {},
   "source": [
    "# MAE"
   ]
  },
  {
   "cell_type": "code",
   "execution_count": 47,
   "id": "11f84ec4",
   "metadata": {},
   "outputs": [
    {
     "name": "stdout",
     "output_type": "stream",
     "text": [
      "0.27537143\n"
     ]
    }
   ],
   "source": [
    "print(np.mean(tf.keras.metrics.mean_absolute_error(validate_out_series , results_out_series)))"
   ]
  }
 ],
 "metadata": {
  "kernelspec": {
   "display_name": "Python 3 (ipykernel)",
   "language": "python",
   "name": "python3"
  },
  "language_info": {
   "codemirror_mode": {
    "name": "ipython",
    "version": 3
   },
   "file_extension": ".py",
   "mimetype": "text/x-python",
   "name": "python",
   "nbconvert_exporter": "python",
   "pygments_lexer": "ipython3",
   "version": "3.9.7"
  }
 },
 "nbformat": 4,
 "nbformat_minor": 5
}
